{
 "cells": [
  {
   "cell_type": "code",
   "execution_count": 1,
   "metadata": {},
   "outputs": [],
   "source": [
    "import torch.nn.functional as F\n",
    "import time\n",
    "import playsound\n",
    "import sys \n",
    "import multiprocessing\n",
    "from threading import Thread"
   ]
  },
  {
   "cell_type": "code",
   "execution_count": 22,
   "metadata": {},
   "outputs": [],
   "source": [
    "def Gplay():\n",
    "    playsound.playsound('../Music/greenlight.mp3')"
   ]
  },
  {
   "cell_type": "code",
   "execution_count": 39,
   "metadata": {},
   "outputs": [],
   "source": [
    "T = Thread(target=Gplay) # create thread\n",
    "T.start()"
   ]
  },
  {
   "cell_type": "code",
   "execution_count": 9,
   "metadata": {},
   "outputs": [],
   "source": [
    "def merda():\n",
    "    ds.terminate()\n",
    "    #dw = multiprocessing.Process(target=playsound.playsound, args=(\"../Music/win.mp3\",))\n",
    "    #dw.start()\n",
    "    playsound.playsound('../Music/win.mp3')\n",
    "    while dw.is_alive():\n",
    "        a = 1\n",
    "    \n",
    "    "
   ]
  },
  {
   "cell_type": "code",
   "execution_count": 11,
   "metadata": {},
   "outputs": [
    {
     "name": "stdout",
     "output_type": "stream",
     "text": [
      "0\n"
     ]
    },
    {
     "ename": "NameError",
     "evalue": "name 'dw' is not defined",
     "output_type": "error",
     "traceback": [
      "\u001b[0;31m---------------------------------------------------------------------------\u001b[0m",
      "\u001b[0;31mNameError\u001b[0m                                 Traceback (most recent call last)",
      "\u001b[0;32m<ipython-input-11-572ce5c3210a>\u001b[0m in \u001b[0;36m<module>\u001b[0;34m\u001b[0m\n\u001b[1;32m      7\u001b[0m     \u001b[0;31m#while ds.is_alive():\u001b[0m\u001b[0;34m\u001b[0m\u001b[0;34m\u001b[0m\u001b[0;34m\u001b[0m\u001b[0m\n\u001b[1;32m      8\u001b[0m     \u001b[0;31m#    a = 1\u001b[0m\u001b[0;34m\u001b[0m\u001b[0;34m\u001b[0m\u001b[0;34m\u001b[0m\u001b[0m\n\u001b[0;32m----> 9\u001b[0;31m     \u001b[0mmerda\u001b[0m\u001b[0;34m(\u001b[0m\u001b[0;34m)\u001b[0m\u001b[0;34m\u001b[0m\u001b[0;34m\u001b[0m\u001b[0m\n\u001b[0m\u001b[1;32m     10\u001b[0m     \u001b[0msys\u001b[0m\u001b[0;34m.\u001b[0m\u001b[0mexit\u001b[0m\u001b[0;34m(\u001b[0m\u001b[0;34m)\u001b[0m\u001b[0;34m\u001b[0m\u001b[0;34m\u001b[0m\u001b[0m\n\u001b[1;32m     11\u001b[0m \u001b[0;34m\u001b[0m\u001b[0m\n",
      "\u001b[0;32m<ipython-input-9-77558a497fb5>\u001b[0m in \u001b[0;36mmerda\u001b[0;34m()\u001b[0m\n\u001b[1;32m      4\u001b[0m     \u001b[0;31m#dw.start()\u001b[0m\u001b[0;34m\u001b[0m\u001b[0;34m\u001b[0m\u001b[0;34m\u001b[0m\u001b[0m\n\u001b[1;32m      5\u001b[0m     \u001b[0mplaysound\u001b[0m\u001b[0;34m.\u001b[0m\u001b[0mplaysound\u001b[0m\u001b[0;34m(\u001b[0m\u001b[0;34m'../Music/win.mp3'\u001b[0m\u001b[0;34m)\u001b[0m\u001b[0;34m\u001b[0m\u001b[0;34m\u001b[0m\u001b[0m\n\u001b[0;32m----> 6\u001b[0;31m     \u001b[0;32mwhile\u001b[0m \u001b[0mdw\u001b[0m\u001b[0;34m.\u001b[0m\u001b[0mis_alive\u001b[0m\u001b[0;34m(\u001b[0m\u001b[0;34m)\u001b[0m\u001b[0;34m:\u001b[0m\u001b[0;34m\u001b[0m\u001b[0;34m\u001b[0m\u001b[0m\n\u001b[0m\u001b[1;32m      7\u001b[0m         \u001b[0ma\u001b[0m \u001b[0;34m=\u001b[0m \u001b[0;36m1\u001b[0m\u001b[0;34m\u001b[0m\u001b[0;34m\u001b[0m\u001b[0m\n\u001b[1;32m      8\u001b[0m \u001b[0;34m\u001b[0m\u001b[0m\n",
      "\u001b[0;31mNameError\u001b[0m: name 'dw' is not defined"
     ]
    }
   ],
   "source": [
    "#proc = []\n",
    "for i in range(10):\n",
    "    print(i)\n",
    "    ds = multiprocessing.Process(target=playsound.playsound, args=(\"../Music/greenlight.mp3\",))\n",
    "    ds.start()\n",
    "    time.sleep(2)\n",
    "    #while ds.is_alive():\n",
    "    #    a = 1\n",
    "    merda()\n",
    "    sys.exit()\n",
    "    \n",
    "#time.sleep(2)\n",
    "#pG.terminate()\n",
    "#playsound.playsound('../Music/greenlight.mp3')"
   ]
  },
  {
   "cell_type": "code",
   "execution_count": 49,
   "metadata": {},
   "outputs": [],
   "source": [
    "def detect_hand():\n",
    "    x = preprocess(camera.value)\n",
    "    y = model(x)\n",
    "    y = F.softmax(y, dim=1)\n",
    "    prob_hand = float(y.flatten()[0])\n",
    "    hand_slider.value = prob_hand\n",
    "    if prob_hand > 0.9:\n",
    "        #proc[-1].terminate()\n",
    "        robot.left(0.1)\n",
    "        playsound.playsound('../Music/win.mp3')\n",
    "        robot.stop()\n",
    "        time.sleep(0.1)  # add a small sleep to make sure frames have finished processing\n",
    "        sys.exit()\n",
    "        return 1\n",
    "    else:\n",
    "        return 0\n",
    "        "
   ]
  },
  {
   "cell_type": "code",
   "execution_count": 54,
   "metadata": {},
   "outputs": [
    {
     "ename": "SystemExit",
     "evalue": "",
     "output_type": "error",
     "traceback": [
      "An exception has occurred, use %tb to see the full traceback.\n",
      "\u001b[0;31mSystemExit\u001b[0m\n"
     ]
    },
    {
     "name": "stderr",
     "output_type": "stream",
     "text": [
      "/usr/local/lib/python3.6/dist-packages/IPython/core/interactiveshell.py:3327: UserWarning: To exit: use 'exit', 'quit', or Ctrl-D.\n",
      "  warn(\"To exit: use 'exit', 'quit', or Ctrl-D.\", stacklevel=1)\n"
     ]
    }
   ],
   "source": [
    "while True:\n",
    "    robot.stop()\n",
    "    x = preprocess(camera.value)\n",
    "    y = model(x)\n",
    "    y = F.softmax(y, dim=1)\n",
    "    prob_pao = float(y.flatten()[2])\n",
    "    prob_move = float(y.flatten()[1])\n",
    "    prob_hand = float(y.flatten()[0])\n",
    "    pao_slider.value = prob_pao\n",
    "    move_slider.value = prob_move\n",
    "    hand_slider.value = prob_hand\n",
    "    if prob_pao > 0.94 and prob_move < 0.1:\n",
    "        #pG = multiprocessing.Process(target=playsound.playsound, args=(\"../Music/greenlight.mp3\",))\n",
    "        #pG.start()\n",
    "        T = Thread(target=Gplay) # create thread\n",
    "        T.start()\n",
    "        while T.is_alive():\n",
    "            win = detect_hand()\n",
    "            if win == 1:\n",
    "                print(\"end game\")\n",
    "                break\n",
    "        robot.right(0.15)\n",
    "        time.sleep(1.1)\n",
    "        robot.stop()\n",
    "        time.sleep(5)\n",
    "        robot.right(0.15)\n",
    "        time.sleep(1.05)\n",
    "    elif prob_hand > 0.95 and prob_move < 0.05:\n",
    "        robot.left(0.1)\n",
    "        playsound.playsound('../Music/win.mp3')\n",
    "        robot.stop()\n",
    "        break\n",
    "    else:\n",
    "        robot.right(0.12)"
   ]
  },
  {
   "cell_type": "code",
   "execution_count": null,
   "metadata": {},
   "outputs": [],
   "source": [
    "robot.stop()"
   ]
  },
  {
   "cell_type": "markdown",
   "metadata": {},
   "source": [
    "Awesome! If your robot is plugged in it should now be generating new commands with each new camera frame.  Perhaps start by placing your robot on the ground and seeing what it does when it reaches an obstacle.\n",
    "\n",
    "If you want to stop this behavior, you can unattach this callback by executing the code below."
   ]
  },
  {
   "cell_type": "code",
   "execution_count": 31,
   "metadata": {
    "scrolled": true
   },
   "outputs": [],
   "source": [
    "import time\n",
    "\n",
    "camera.unobserve(update, names='value')\n",
    "\n",
    "time.sleep(0.1)  # add a small sleep to make sure frames have finished processing\n",
    "\n",
    "robot.stop()"
   ]
  },
  {
   "cell_type": "code",
   "execution_count": 52,
   "metadata": {},
   "outputs": [],
   "source": []
  },
  {
   "cell_type": "markdown",
   "metadata": {},
   "source": [
    "Perhaps you want the robot to run without streaming video to the browser.  You can unlink the camera as below."
   ]
  },
  {
   "cell_type": "code",
   "execution_count": 10,
   "metadata": {},
   "outputs": [],
   "source": [
    "camera_link.unlink()  # don't stream to browser (will still run camera)"
   ]
  },
  {
   "cell_type": "markdown",
   "metadata": {},
   "source": [
    "To continue streaming call the following."
   ]
  },
  {
   "cell_type": "code",
   "execution_count": 24,
   "metadata": {},
   "outputs": [],
   "source": [
    "camera_link.link()  # stream to browser (wont run camera)"
   ]
  },
  {
   "cell_type": "markdown",
   "metadata": {},
   "source": [
    "### Conclusion\n",
    "\n",
    "That's it for this live demo!  Hopefully you had some fun and your robot avoided collisions intelligently! \n",
    "\n",
    "If your robot wasn't avoiding collisions very well, try to spot where it fails.  The beauty is that we can collect more data for these failure scenarios\n",
    "and the robot should get even better :)"
   ]
  }
 ],
 "metadata": {
  "kernelspec": {
   "display_name": "Python 3",
   "language": "python",
   "name": "python3"
  },
  "language_info": {
   "codemirror_mode": {
    "name": "ipython",
    "version": 3
   },
   "file_extension": ".py",
   "mimetype": "text/x-python",
   "name": "python",
   "nbconvert_exporter": "python",
   "pygments_lexer": "ipython3",
   "version": "3.6.9"
  }
 },
 "nbformat": 4,
 "nbformat_minor": 4
}
