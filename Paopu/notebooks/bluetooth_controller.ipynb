{
 "cells": [
  {
   "cell_type": "markdown",
   "metadata": {},
   "source": [
    "Visit http://html5gamepad.com to identify the indexes of your controller's buttons."
   ]
  },
  {
   "cell_type": "code",
   "execution_count": 1,
   "metadata": {},
   "outputs": [],
   "source": [
    "import time\n",
    "import playsound\n",
    "#import pygame\n",
    "import ipywidgets.widgets as widgets\n",
    "from jetbot import Robot\n",
    "import traitlets\n",
    "import multiprocessing\n",
    "import sys \n",
    "import threading\n",
    "import torch\n",
    "from torch.multiprocessing import Pool, Process, set_start_method\n",
    "try:\n",
    "     set_start_method('spawn')\n",
    "except RuntimeError:\n",
    "    pass"
   ]
  },
  {
   "cell_type": "code",
   "execution_count": 2,
   "metadata": {},
   "outputs": [
    {
     "data": {
      "application/vnd.jupyter.widget-view+json": {
       "model_id": "d323f7ef16f34d0197b0c1deb1cfac21",
       "version_major": 2,
       "version_minor": 0
      },
      "text/plain": [
       "Controller()"
      ]
     },
     "metadata": {},
     "output_type": "display_data"
    }
   ],
   "source": [
    "#robot = Robot()\n",
    "\n",
    "controller = widgets.Controller(index=0)  # replace with index of your controller\n",
    "\n",
    "display(controller)"
   ]
  },
  {
   "cell_type": "code",
   "execution_count": 3,
   "metadata": {},
   "outputs": [
    {
     "name": "stdout",
     "output_type": "stream",
     "text": [
      "(Axis(value=0.003921627998352051), Axis(value=0.003921627998352051), Axis(value=0.003921627998352051), Axis(value=0.0), Axis(value=0.0), Axis(value=0.003921627998352051), Axis(value=0.0), Axis(value=0.0), Axis(value=0.0), Axis(value=0.0))\n",
      "(Button(value=0.0), Button(value=0.0), Button(value=0.0), Button(value=0.0), Button(value=0.0), Button(value=0.0), Button(value=0.0), Button(value=0.0), Button(value=0.0), Button(value=0.0), Button(value=0.0), Button(value=0.0), Button(value=0.0))\n"
     ]
    }
   ],
   "source": [
    "print(controller.axes)\n",
    "print(controller.buttons)"
   ]
  },
  {
   "cell_type": "code",
   "execution_count": 5,
   "metadata": {},
   "outputs": [],
   "source": [
    "def main_loop():\n",
    "    #global robot\n",
    "    while True:\n",
    "        robot.stop()\n",
    "        time.sleep(1)\n",
    "        robot.left(0.1)\n",
    "        time.sleep(1)"
   ]
  },
  {
   "cell_type": "code",
   "execution_count": 6,
   "metadata": {},
   "outputs": [],
   "source": [
    "#Controller"
   ]
  },
  {
   "cell_type": "code",
   "execution_count": 7,
   "metadata": {},
   "outputs": [],
   "source": [
    "robot = Robot()"
   ]
  },
  {
   "cell_type": "code",
   "execution_count": 8,
   "metadata": {},
   "outputs": [],
   "source": [
    "left_link1 = traitlets.dlink((controller.axes[0], 'value'), (robot.left_motor, 'value'), transform=lambda x: x/8)\n",
    "left_link2 = traitlets.dlink((controller.axes[0], 'value'), (robot.right_motor, 'value'), transform=lambda x: -x/8)\n",
    "#left_link3 = traitlets.dlink((controller.axes[1], 'value'), (robot.left_motor, 'value'), transform=lambda x: -x/8)\n",
    "#left_link3 = traitlets.dlink((controller.axes[1], 'value'), (robot.right_motor, 'value'), transform=lambda x: -x/8)"
   ]
  },
  {
   "cell_type": "code",
   "execution_count": 9,
   "metadata": {},
   "outputs": [],
   "source": [
    "def callbackFunc2(change,):\n",
    "    global A, B, C, robot\n",
    "    if change['owner'].buttons[2].pressed == True and A == True:\n",
    "        A = False\n",
    "        playsound.playsound(\"../Music/greenlight.mp3\")\n",
    "        robot.right(0.15)\n",
    "        time.sleep(1.19)\n",
    "        robot.stop()\n",
    "        time.sleep(5)\n",
    "        robot.right(0.15)\n",
    "        time.sleep(1.19)\n",
    "        robot.stop()\n",
    "        print(\"G\")\n",
    "    elif change['owner'].buttons[1].pressed == True and B == True:\n",
    "        playsound.playsound(\"../Music/game_over.mp3\")\n",
    "        B = False\n",
    "        print(\"O\")\n",
    "    elif change['owner'].buttons[3].pressed == True and C == True:\n",
    "        C = False\n",
    "        playsound.playsound(\"../Music/win.mp3\")\n",
    "    elif change['owner'].buttons[0].pressed == True:\n",
    "        A = True\n",
    "        B = True\n",
    "        C = True\n",
    "    else:\n",
    "        print(\":\")\n",
    "        a = 3"
   ]
  },
  {
   "cell_type": "code",
   "execution_count": 10,
   "metadata": {},
   "outputs": [],
   "source": [
    "A = True\n",
    "B = True\n",
    "C = True\n",
    "\n",
    "controller.observe(callbackFunc2)"
   ]
  },
  {
   "cell_type": "code",
   "execution_count": 1,
   "metadata": {},
   "outputs": [],
   "source": [
    "#left_link1.unlink()\n",
    "#left_link2.unlink()"
   ]
  },
  {
   "cell_type": "code",
   "execution_count": null,
   "metadata": {},
   "outputs": [],
   "source": [
    "#Emergency stop "
   ]
  },
  {
   "cell_type": "code",
   "execution_count": null,
   "metadata": {},
   "outputs": [],
   "source": [
    "def callbackFunc_roll2(change,):\n",
    "    #global robot\n",
    "    if change['owner'].buttons[1].value == 1:\n",
    "        #timerThread.do_run = False\n",
    "        pA.terminate()\n",
    "        robot = Robot()\n",
    "        robot.stop()"
   ]
  },
  {
   "cell_type": "code",
   "execution_count": null,
   "metadata": {},
   "outputs": [],
   "source": [
    "global robot\n",
    "robot = Robot()\n",
    "pA = torch.multiprocessing.Process(target=main_loop)\n",
    "print(pA)\n",
    "pA.start()\n",
    "controller.observe(callbackFunc_roll2)"
   ]
  },
  {
   "cell_type": "code",
   "execution_count": null,
   "metadata": {},
   "outputs": [],
   "source": [
    "robot = Robot()\n",
    "robot.stop()\n",
    "print(pA.is_alive())"
   ]
  }
 ],
 "metadata": {
  "kernelspec": {
   "display_name": "Python 3",
   "language": "python",
   "name": "python3"
  },
  "language_info": {
   "codemirror_mode": {
    "name": "ipython",
    "version": 3
   },
   "file_extension": ".py",
   "mimetype": "text/x-python",
   "name": "python",
   "nbconvert_exporter": "python",
   "pygments_lexer": "ipython3",
   "version": "3.6.9"
  }
 },
 "nbformat": 4,
 "nbformat_minor": 5
}
