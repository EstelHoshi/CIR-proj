{
 "cells": [
  {
   "cell_type": "markdown",
   "metadata": {},
   "source": [
    "# Collision Avoidance - Live Demo\n",
    "\n",
    "In this notebook we'll use the model we trained to detect whether the robot is ``free`` or ``blocked`` to enable a collision avoidance behavior on the robot.  \n",
    "\n",
    "## Load the trained model\n",
    "\n",
    "We'll assumed that you've already downloaded the ``best_model.pth`` to your workstation as instructed in the training notebook.  Now, you should upload this model into this notebook's\n",
    "directory by using the Jupyter Lab upload tool.  Once that's finished there should be a file named ``best_model.pth`` in this notebook's directory.  \n",
    "\n",
    "> Please make sure the file has uploaded fully before calling the next cell\n",
    "\n",
    "Execute the code below to initialize the PyTorch model.  This should look very familiar from the training notebook."
   ]
  },
  {
   "cell_type": "code",
   "execution_count": 1,
   "metadata": {},
   "outputs": [],
   "source": [
    "import torch\n",
    "import torchvision\n",
    "\n",
    "model = torchvision.models.alexnet(pretrained=False)\n",
    "model.classifier[6] = torch.nn.Linear(model.classifier[6].in_features, 4)"
   ]
  },
  {
   "cell_type": "markdown",
   "metadata": {},
   "source": [
    "Next, load the trained weights from the ``best_model.pth`` file that you uploaded"
   ]
  },
  {
   "cell_type": "code",
   "execution_count": 2,
   "metadata": {},
   "outputs": [
    {
     "data": {
      "text/plain": [
       "<All keys matched successfully>"
      ]
     },
     "execution_count": 2,
     "metadata": {},
     "output_type": "execute_result"
    }
   ],
   "source": [
    "model.load_state_dict(torch.load('../../../Models/best_model3.pth'))"
   ]
  },
  {
   "cell_type": "markdown",
   "metadata": {},
   "source": [
    "Currently, the model weights are located on the CPU memory execute the code below to transfer to the GPU device."
   ]
  },
  {
   "cell_type": "code",
   "execution_count": 3,
   "metadata": {},
   "outputs": [],
   "source": [
    "device = torch.device('cuda')\n",
    "model = model.to(device)"
   ]
  },
  {
   "cell_type": "markdown",
   "metadata": {},
   "source": [
    "### Create the preprocessing function\n",
    "\n",
    "We have now loaded our model, but there's a slight issue.  The format that we trained our model doesnt *exactly* match the format of the camera.  To do that, \n",
    "we need to do some *preprocessing*.  This involves the following steps\n",
    "\n",
    "1. Convert from BGR to RGB\n",
    "2. Convert from HWC layout to CHW layout\n",
    "3. Normalize using same parameters as we did during training (our camera provides values in [0, 255] range and training loaded images in [0, 1] range so we need to scale by 255.0\n",
    "4. Transfer the data from CPU memory to GPU memory\n",
    "5. Add a batch dimension"
   ]
  },
  {
   "cell_type": "code",
   "execution_count": 4,
   "metadata": {},
   "outputs": [],
   "source": [
    "import cv2\n",
    "import numpy as np\n",
    "\n",
    "mean = 255.0 * np.array([0.485, 0.456, 0.406])\n",
    "stdev = 255.0 * np.array([0.229, 0.224, 0.225])\n",
    "\n",
    "normalize = torchvision.transforms.Normalize(mean, stdev)\n",
    "\n",
    "def preprocess(camera_value):\n",
    "    global device, normalize\n",
    "    x = camera_value\n",
    "    x = cv2.cvtColor(x, cv2.COLOR_BGR2RGB)\n",
    "    x = x.transpose((2, 0, 1))\n",
    "    x = torch.from_numpy(x).float()\n",
    "    x = normalize(x)\n",
    "    x = x.to(device)\n",
    "    x = x[None, ...]\n",
    "    return x"
   ]
  },
  {
   "cell_type": "markdown",
   "metadata": {},
   "source": [
    "Great! We've now defined our pre-processing function which can convert images from the camera format to the neural network input format.\n",
    "\n",
    "Now, let's start and display our camera.  You should be pretty familiar with this by now.  We'll also create a slider that will display the\n",
    "probability that the robot is blocked."
   ]
  },
  {
   "cell_type": "code",
   "execution_count": 5,
   "metadata": {},
   "outputs": [],
   "source": [
    "import traitlets\n",
    "from IPython.display import display\n",
    "import ipywidgets.widgets as widgets\n",
    "from jetbot import Camera, bgr8_to_jpeg"
   ]
  },
  {
   "cell_type": "code",
   "execution_count": 6,
   "metadata": {},
   "outputs": [],
   "source": [
    "camera = Camera.instance(width=224, height=224)"
   ]
  },
  {
   "cell_type": "code",
   "execution_count": 7,
   "metadata": {},
   "outputs": [
    {
     "data": {
      "application/vnd.jupyter.widget-view+json": {
       "model_id": "401f06916a9f44d8b7cd1d715836c4a3",
       "version_major": 2,
       "version_minor": 0
      },
      "text/plain": [
       "HBox(children=(Image(value=b'\\xff\\xd8\\xff\\xe0\\x00\\x10JFIF\\x00\\x01\\x01\\x00\\x00\\x01\\x00\\x01\\x00\\x00\\xff\\xdb\\x00C…"
      ]
     },
     "metadata": {},
     "output_type": "display_data"
    }
   ],
   "source": [
    "image = widgets.Image(format='jpeg', width=224, height=224)\n",
    "pao_slider = widgets.FloatSlider(description='pao', min=0.0, max=1.0, orientation='vertical')\n",
    "move_slider = widgets.FloatSlider(description='move', min=0.0, max=1.0, orientation='vertical')\n",
    "hand_slider = widgets.FloatSlider(description='hand', min=0.0, max=1.0, orientation='vertical')\n",
    "environment_slider = widgets.FloatSlider(description='environment', min=0.0, max=1.0, orientation='vertical')\n",
    "\n",
    "camera_link = traitlets.dlink((camera, 'value'), (image, 'value'), transform=bgr8_to_jpeg)\n",
    "display(widgets.HBox([image, pao_slider,move_slider, hand_slider, environment_slider]))"
   ]
  },
  {
   "cell_type": "markdown",
   "metadata": {},
   "source": [
    "We'll also create our robot instance which we'll need to drive the motors."
   ]
  },
  {
   "cell_type": "code",
   "execution_count": 8,
   "metadata": {},
   "outputs": [],
   "source": [
    "from jetbot import Robot"
   ]
  },
  {
   "cell_type": "markdown",
   "metadata": {},
   "source": [
    "Next, we'll create a function that will get called whenever the camera's value changes.  This function will do the following steps\n",
    "\n",
    "1. Pre-process the camera image\n",
    "2. Execute the neural network\n",
    "3. While the neural network output indicates we're blocked, we'll turn left, otherwise we go forward."
   ]
  },
  {
   "cell_type": "markdown",
   "metadata": {},
   "source": [
    "Cool! We've created our neural network execution function, but now we need to attach it to the camera for processing. \n",
    "\n",
    "We accomplish that with the ``observe`` function.\n",
    "\n",
    "> WARNING: This code will move the robot!! Please make sure your robot has clearance.  The collision avoidance should work, but the neural\n",
    "> network is only as good as the data it's trained on!"
   ]
  },
  {
   "cell_type": "code",
   "execution_count": 9,
   "metadata": {},
   "outputs": [],
   "source": [
    "import time\n",
    "import ipywidgets.widgets as widgets\n",
    "from jetbot import Robot\n",
    "import traitlets\n",
    "import multiprocessing\n",
    "import sys \n",
    "import threading"
   ]
  },
  {
   "cell_type": "code",
   "execution_count": 10,
   "metadata": {},
   "outputs": [],
   "source": [
    "import torch.nn.functional as F\n",
    "import playsound\n",
    "import numpy as np\n",
    "import threading\n",
    "import torch\n",
    "from jetbot import Robot\n",
    "from torch.multiprocessing import Pool, Process, set_start_method\n",
    "try:\n",
    "     set_start_method('spawn')\n",
    "except RuntimeError:\n",
    "    pass"
   ]
  },
  {
   "cell_type": "code",
   "execution_count": 16,
   "metadata": {},
   "outputs": [],
   "source": [
    "def loose_sequence():\n",
    "    pW = multiprocessing.Process(target=playsound.playsound, args=(\"../Music/game_over.mp3\",))\n",
    "    pW.start()\n",
    "    robot.left(0.1)\n",
    "    while pW.is_alive():\n",
    "        i = 1\n",
    "    robot.stop()"
   ]
  },
  {
   "cell_type": "code",
   "execution_count": 17,
   "metadata": {},
   "outputs": [],
   "source": [
    "def win_sequence():\n",
    "    pW = multiprocessing.Process(target=playsound.playsound, args=(\"../Music/win.mp3\",))\n",
    "    pW.start()\n",
    "    robot.left(0.1)\n",
    "    while pW.is_alive():\n",
    "        i = 1\n",
    "    robot.stop()"
   ]
  },
  {
   "cell_type": "code",
   "execution_count": 18,
   "metadata": {},
   "outputs": [],
   "source": [
    "def detect_hand(pG):\n",
    "    x = preprocess(camera.value)\n",
    "    y = model(x)\n",
    "    y = F.softmax(y, dim=1)\n",
    "    \n",
    "    prob_hand = float(y.flatten()[1])\n",
    "    hand_slider.value = prob_hand\n",
    "    \n",
    "    if prob_hand > 0.9:\n",
    "        pG.terminate()\n",
    "        win_sequence()\n",
    "        #time.sleep(0.1)  # add a small sleep to make sure frames have finished processing\n",
    "        return 1\n",
    "    else:\n",
    "        return 0"
   ]
  },
  {
   "cell_type": "code",
   "execution_count": 19,
   "metadata": {},
   "outputs": [],
   "source": [
    "def grab_contours(cnts):\n",
    "    # if the length the contours tuple returned by cv2.findContours\n",
    "    # is '2' then we are using either OpenCV v2.4, v4-beta, or\n",
    "    # v4-official\n",
    "    if len(cnts) == 2:\n",
    "        cnts = cnts[0]\n",
    "\n",
    "    # if the length of the contours tuple is '3' then we are using\n",
    "    # either OpenCV v3, v4-pre, or v4-alpha\n",
    "    elif len(cnts) == 3:\n",
    "        cnts = cnts[1]\n",
    "\n",
    "    # otherwise OpenCV has changed their cv2.findContours return\n",
    "    # signature yet again and I have no idea WTH is going on\n",
    "    else:\n",
    "        raise Exception((\"Contours tuple must have length 2 or 3, \"\n",
    "            \"otherwise OpenCV changed their cv2.findContours return \"\n",
    "            \"signature yet again. Refer to OpenCV's documentation \"\n",
    "            \"in that case\"))\n",
    "\n",
    "    # return the actual contours array\n",
    "    return cnts"
   ]
  },
  {
   "cell_type": "code",
   "execution_count": 20,
   "metadata": {},
   "outputs": [],
   "source": [
    "#import imutils\n",
    "def detect_movement():\n",
    "    firstFrame = camera.value\n",
    "    firstFrame = cv2.cvtColor(firstFrame, cv2.COLOR_BGR2RGB)\n",
    "    gray = cv2.cvtColor(firstFrame, cv2.COLOR_BGR2GRAY)\n",
    "    firstFrame = cv2.GaussianBlur(gray, (33, 33), 0)\n",
    "    start_time = time.time()\n",
    "    frame_count = 0\n",
    "    while True:\n",
    "        frame_count = frame_count + 1\n",
    "        frame = camera.value\n",
    "        frame = cv2.cvtColor(frame, cv2.COLOR_BGR2RGB)\n",
    "        text = \"Static\"\n",
    "        if frame is None:\n",
    "            break\n",
    "        gray = cv2.cvtColor(frame, cv2.COLOR_BGR2GRAY)\n",
    "        gray = cv2.GaussianBlur(gray, (33, 33), 0)\n",
    "        frameDelta = cv2.absdiff(firstFrame, gray)\n",
    "        thresh = cv2.threshold(frameDelta, 50, 255, cv2.THRESH_BINARY)[1]\n",
    "        thresh = cv2.dilate(thresh, None, iterations=2)\n",
    "        cnts = cv2.findContours(thresh.copy(), cv2.RETR_EXTERNAL,\n",
    "            cv2.CHAIN_APPROX_SIMPLE)\n",
    "        cnts = grab_contours(cnts)\n",
    "        for c in cnts:\n",
    "            if cv2.contourArea(c) < 85:\n",
    "                continue\n",
    "            text = \"Movement\"\n",
    "            if text == \"Movement\":\n",
    "                print(frame_count)\n",
    "                return \"LOSER\"\n",
    "        if text == \"Movement\":\n",
    "            print(frame_count)\n",
    "            return \"LOSER\"\n",
    "        if time.time() >= start_time + 5:\n",
    "            print(frame_count)\n",
    "            return \"CONTINUE\"\n",
    "        time.sleep(0.2)"
   ]
  },
  {
   "cell_type": "code",
   "execution_count": 25,
   "metadata": {},
   "outputs": [],
   "source": [
    "def take_thresh(t,f):\n",
    "    s_t = time.time()\n",
    "    s_img = camera.value\n",
    "    rgb_weights = [0.2989, 0.5870, 0.1140]\n",
    "    s_img = np.dot(s_img, rgb_weights)\n",
    "    \n",
    "    diff_a = []\n",
    "\n",
    "    while time.time() - s_t < t:\n",
    "        t_img = np.dot(camera.value, rgb_weights)\n",
    "        diff = np.sum(np.abs(t_img - s_img))/(224*224)\n",
    "        diff_a.append(diff)\n",
    "    \n",
    "    diff = np.sum(diff_a)/len(diff_a)\n",
    "    diff = f*diff\n",
    "    return diff"
   ]
  },
  {
   "cell_type": "code",
   "execution_count": 26,
   "metadata": {},
   "outputs": [],
   "source": [
    "def estel_move(threshold, N):\n",
    "    s_t = time.time()\n",
    "    s_img = camera.value\n",
    "    rgb_weights = [0.2989, 0.5870, 0.1140]\n",
    "    s_img = np.dot(s_img, rgb_weights)\n",
    "    rows = np.shape(s_img)[0]\n",
    "    cols = np.shape(s_img)[1]\n",
    "    move = False\n",
    "    p_m = []\n",
    "\n",
    "    while time.time() - s_t < 5 and move == False:\n",
    "        c_f = 0\n",
    "        c_t = int(cols/N)\n",
    "        t_img = np.dot(camera.value, rgb_weights)\n",
    "        for i in range(N):\n",
    "            s_img_i = s_img[:,c_f:c_t]\n",
    "            t_img_i = t_img[:,c_f:c_t]\n",
    "            #print(np.shape(s_img_i))\n",
    "            diff = np.sum(np.abs(t_img_i - s_img_i))/(224*224)\n",
    "            #print(diff)\n",
    "            if diff > threshold:\n",
    "                move = True\n",
    "                p_m.append(i + 1)\n",
    "                #i = N\n",
    "            c_f = c_t + 1\n",
    "            c_t = int(2*c_t)\n",
    "        \n",
    "    if move == False:\n",
    "        print(\"no move\")\n",
    "    else:\n",
    "        for i in range(len(p_m)):\n",
    "            print(\"move player \" + str(p_m[i]))\n",
    "    \n",
    "    return move, p_m\n",
    "    "
   ]
  },
  {
   "cell_type": "code",
   "execution_count": 27,
   "metadata": {},
   "outputs": [],
   "source": [
    "#main loop"
   ]
  },
  {
   "cell_type": "code",
   "execution_count": 28,
   "metadata": {},
   "outputs": [],
   "source": [
    "def curator_role(T, N):\n",
    "    total_players = N\n",
    "    print(\"AAA\")\n",
    "    play = True\n",
    "    while play:\n",
    "        robot.stop()\n",
    "        x = preprocess(camera.value)\n",
    "        y = model(x)\n",
    "        y = F.softmax(y, dim=1)\n",
    "\n",
    "        prob_pao = float(y.flatten()[3])\n",
    "        prob_move = float(y.flatten()[2])\n",
    "        prob_hand = float(y.flatten()[1])\n",
    "        prob_environment = float(y.flatten()[0])\n",
    "\n",
    "        pao_slider.value = prob_pao\n",
    "        move_slider.value = prob_move\n",
    "        hand_slider.value = prob_hand\n",
    "        environment_slider.value = prob_environment\n",
    "\n",
    "        if prob_pao > 0.94:# and prob_move < 0.1:\n",
    "            pG = multiprocessing.Process(target=playsound.playsound, args=(\"../Music/greenlight.mp3\",))\n",
    "            pG.start()\n",
    "            while pG.is_alive():\n",
    "                win = detect_hand(pG)\n",
    "            if win == 1:\n",
    "                print(\"end game\")\n",
    "                play = False#break\n",
    "            else:\n",
    "                robot.right(0.15)\n",
    "                time.sleep(1.19)\n",
    "                robot.stop()\n",
    "                time.sleep(1.0)\n",
    "                \n",
    "                Move, p_m = estel_move(T,N) #Detect movement\n",
    "                \n",
    "                if Move == True and N == 1:#detect_movement() == \"LOSER\":\n",
    "                    loose_sequence()\n",
    "                    play = False\n",
    "                elif Move == True and N > 1:\n",
    "                    for i in range(len(p_m)):\n",
    "                        num = p_m[i]\n",
    "                        playsound.playsound(\"../Music/P\"+str(num)+\"_E.mp3\")\n",
    "                        total_players = total_players - 1\n",
    "                    if total_players <= 0:\n",
    "                        loose_sequence()\n",
    "                        play = False\n",
    "                    else:\n",
    "                        robot.right(0.15)\n",
    "                        time.sleep(1.14)\n",
    "                        robot.stop()  \n",
    "                else:\n",
    "                    robot.right(0.15)\n",
    "                    time.sleep(1.14)\n",
    "                    robot.stop()\n",
    "                    \n",
    "                #T = T * 1.1 # increase threshold as players move closer\n",
    "                    \n",
    "        elif prob_hand > 0.99:# and prob_move < 0.05:\n",
    "            win_sequence()\n",
    "            break #sys.exit()\n",
    "        else:\n",
    "            robot.right(0.12)"
   ]
  },
  {
   "cell_type": "code",
   "execution_count": 29,
   "metadata": {},
   "outputs": [],
   "source": [
    "#Controller"
   ]
  },
  {
   "cell_type": "code",
   "execution_count": 30,
   "metadata": {},
   "outputs": [],
   "source": [
    "robot = Robot()"
   ]
  },
  {
   "cell_type": "code",
   "execution_count": 31,
   "metadata": {},
   "outputs": [
    {
     "data": {
      "application/vnd.jupyter.widget-view+json": {
       "model_id": "7ae773a0075147aa9178450d0d8521ab",
       "version_major": 2,
       "version_minor": 0
      },
      "text/plain": [
       "Controller()"
      ]
     },
     "metadata": {},
     "output_type": "display_data"
    }
   ],
   "source": [
    "controller = widgets.Controller(index=0)  # replace with index of your controller\n",
    "\n",
    "display(controller)"
   ]
  },
  {
   "cell_type": "code",
   "execution_count": 32,
   "metadata": {},
   "outputs": [],
   "source": [
    "left_link1 = traitlets.dlink((controller.axes[0], 'value'), (robot.left_motor, 'value'), transform=lambda x: x/8)\n",
    "left_link2 = traitlets.dlink((controller.axes[0], 'value'), (robot.right_motor, 'value'), transform=lambda x: -x/8)\n",
    "left_link3 = traitlets.dlink((controller.axes[1], 'value'), (robot.left_motor, 'value'), transform=lambda x: -x/8)\n",
    "left_link3 = traitlets.dlink((controller.axes[1], 'value'), (robot.right_motor, 'value'), transform=lambda x: -x/8)"
   ]
  },
  {
   "cell_type": "code",
   "execution_count": 33,
   "metadata": {},
   "outputs": [],
   "source": [
    "def callbackFunc(change,):\n",
    "    global A, B, C, D, E, P1, P2, P3, P4, robot, T, N\n",
    "    if change['owner'].buttons[8].pressed == True and A == True:\n",
    "        A = False\n",
    "        playsound.playsound(\"../Music/NotMove.mp3\")\n",
    "        T = take_thresh(3,1.1)\n",
    "        print(T)\n",
    "        playsound.playsound(\"../Music/PressSTART.mp3\")\n",
    "    if change['owner'].buttons[9].pressed == True and B == True:\n",
    "        B = False\n",
    "        robot.right(0.15)\n",
    "        time.sleep(1.1)\n",
    "        robot.stop()\n",
    "        curator_role(T, N)\n",
    "    if change['owner'].buttons[2].pressed == True and C == True:\n",
    "        C = False\n",
    "        playsound.playsound(\"../Music/greenlight.mp3\")\n",
    "    if change['owner'].buttons[1].pressed == True and D == True:\n",
    "        playsound.playsound(\"../Music/game_over.mp3\")\n",
    "        D = False\n",
    "    if change['owner'].buttons[3].pressed == True and E == True:\n",
    "        E = False\n",
    "        playsound.playsound(\"../Music/win.mp3\")\n",
    "    if change['owner'].buttons[4].pressed == True and P1 == True:\n",
    "        P1 = False\n",
    "        playsound.playsound(\"../Music/P1_E.mp3\")\n",
    "    if change['owner'].buttons[5].pressed == True and P2 == True:\n",
    "        playsound.playsound(\"../Music/P2_E.mp3\")\n",
    "        P2 = False\n",
    "    if change['owner'].buttons[6].pressed == True and P3 == True:\n",
    "        P3 = False\n",
    "        playsound.playsound(\"../Music/P3_E.mp3\")\n",
    "    if change['owner'].buttons[7].pressed == True and P4 == True:\n",
    "        P4 = False\n",
    "        playsound.playsound(\"../Music/P4_E.mp3\")\n",
    "    if change['owner'].buttons[10].pressed == True:# and N2 == True:\n",
    "        #N2 = False\n",
    "        N = 2\n",
    "    if change['owner'].buttons[11].pressed == True:# and N3 == True:\n",
    "        #N3 = False\n",
    "        N = 3\n",
    "    if change['owner'].buttons[0].pressed == True:\n",
    "        N = 1\n",
    "        A = True\n",
    "        B = True\n",
    "        C = True\n",
    "        D = True\n",
    "        E = True\n",
    "        P1 = True\n",
    "        P2 = True\n",
    "        P3 = True\n",
    "        P4 = True\n"
   ]
  },
  {
   "cell_type": "code",
   "execution_count": 34,
   "metadata": {},
   "outputs": [],
   "source": [
    "#global robot\n",
    "robot = Robot()\n",
    "\n",
    "A = True\n",
    "B = True\n",
    "C = True\n",
    "D = True\n",
    "E = True\n",
    "P1 = True\n",
    "P2 = True\n",
    "P3 = True\n",
    "P4 = True\n",
    "\n",
    "N = 1 #number of players\n",
    "controller.observe(callbackFunc)"
   ]
  },
  {
   "cell_type": "code",
   "execution_count": 8,
   "metadata": {},
   "outputs": [],
   "source": [
    "robot = Robot()\n",
    "robot.stop()"
   ]
  }
 ],
 "metadata": {
  "kernelspec": {
   "display_name": "Python 3",
   "language": "python",
   "name": "python3"
  },
  "language_info": {
   "codemirror_mode": {
    "name": "ipython",
    "version": 3
   },
   "file_extension": ".py",
   "mimetype": "text/x-python",
   "name": "python",
   "nbconvert_exporter": "python",
   "pygments_lexer": "ipython3",
   "version": "3.6.9"
  }
 },
 "nbformat": 4,
 "nbformat_minor": 4
}
