{
 "cells": [
  {
   "cell_type": "markdown",
   "metadata": {},
   "source": [
    "# Wizard of Oz\n",
    "\n",
    "In this notebook we'll control the Jetbot remotely with a gamepad controller connected to our web browser machine in order to perform the user interaction evaluation.\n",
    "\n",
    "The code is based on the ```teleoperation.ipynb``` example.\n",
    "\n",
    "## Create gamepad controller\n",
    "Visit http://html5gamepad.com to identify the indexes of your controller's buttons."
   ]
  },
  {
   "cell_type": "code",
   "execution_count": 13,
   "metadata": {},
   "outputs": [
    {
     "data": {
      "application/vnd.jupyter.widget-view+json": {
       "model_id": "b63d0d1c6e9c415e96287eebd17711b1",
       "version_major": 2,
       "version_minor": 0
      },
      "text/plain": [
       "Controller()"
      ]
     },
     "metadata": {},
     "output_type": "display_data"
    }
   ],
   "source": [
    "import ipywidgets.widgets as widgets\n",
    "import traitlets\n",
    "\n",
    "controller = widgets.Controller(index=0)  # replace with index of your controller\n",
    "display(controller)"
   ]
  },
  {
   "cell_type": "markdown",
   "metadata": {},
   "source": [
    "## Create and display Image widget\n",
    "Finally, let's display an ```Image``` widget that we'll use to show our live camera feed"
   ]
  },
  {
   "cell_type": "code",
   "execution_count": 4,
   "metadata": {},
   "outputs": [
    {
     "data": {
      "application/vnd.jupyter.widget-view+json": {
       "model_id": "031418799c494e9fb4216862ed928dc5",
       "version_major": 2,
       "version_minor": 0
      },
      "text/plain": [
       "Image(value=b'', format='jpeg', height='350', width='350')"
      ]
     },
     "metadata": {},
     "output_type": "display_data"
    }
   ],
   "source": [
    "from jetbot import Camera\n",
    "from jetbot import bgr8_to_jpeg\n",
    "\n",
    "# Init camera\n",
    "camera = Camera.instance()\n",
    "\n",
    "# Create image widget\n",
    "image = widgets.Image(format='jpeg', width=350, height=350)\n",
    "display(image)\n",
    "\n",
    "# Link camera to widget\n",
    "camera_link = traitlets.dlink((camera, 'value'), (image, 'value'), transform=bgr8_to_jpeg)"
   ]
  },
  {
   "cell_type": "markdown",
   "metadata": {},
   "source": [
    "## Create function to play sound\n",
    "In order to play sound asynchronously, we will use the ```simpleaudio``` library, which has given better results than ```playsound``` for asynchronous playing."
   ]
  },
  {
   "cell_type": "code",
   "execution_count": 17,
   "metadata": {},
   "outputs": [],
   "source": [
    "# Play sound function\n",
    "import simpleaudio as sa\n",
    "\n",
    "def play_sound(filename, async=True):\n",
    "    \n",
    "    wave_obj = sa.WaveObject.from_wave_file(filename)\n",
    "    \n",
    "    play_obj = wave_obj.play()\n",
    "    if not async:\n",
    "        play_obj.wait_done()\n",
    "        \n",
    "    return play_obj"
   ]
  },
  {
   "cell_type": "markdown",
   "metadata": {},
   "source": [
    "## Connect gamepad controller to actions"
   ]
  },
  {
   "cell_type": "code",
   "execution_count": 9,
   "metadata": {},
   "outputs": [],
   "source": [
    "from jetbot import Robot\n",
    "robot = Robot()"
   ]
  },
  {
   "cell_type": "code",
   "execution_count": 10,
   "metadata": {},
   "outputs": [],
   "source": [
    "# Rotate left/right\n",
    "left_link = traitlets.dlink((controller.axes[0], 'value'), (robot.left_motor, 'value'), transform=lambda x: x/6)\n",
    "right_link = traitlets.dlink((controller.axes[0], 'value'), (robot.right_motor, 'value'), transform=lambda x: -x/6)"
   ]
  },
  {
   "cell_type": "code",
   "execution_count": 11,
   "metadata": {},
   "outputs": [],
   "source": [
    "# Move forwards/backwards\n",
    "left_link1 = traitlets.dlink((controller.axes[1], 'value'), (robot.left_motor, 'value'), transform=lambda x: -x/6)\n",
    "right_link1 = traitlets.dlink((controller.axes[1], 'value'), (robot.right_motor, 'value'), transform=lambda x: -x/6)"
   ]
  },
  {
   "cell_type": "code",
   "execution_count": 16,
   "metadata": {},
   "outputs": [],
   "source": [
    "import playsound\n",
    "\n",
    "# Define callback functions\n",
    "   \n",
    "def b0_callback(change):    # Y\n",
    "    if change['new']:\n",
    "        play_sound(f\"../Music/{LAN}/greenlight1.wav\")\n",
    "\n",
    "def b1_callback(change):    # B\n",
    "    if change['new']:\n",
    "        play_sound(f\"../Music/{LAN}/greenlight2.wav\")\n",
    "    \n",
    "def b2_callback(change):    # A\n",
    "    if change['new']:\n",
    "        play_sound(f\"../Music/{LAN}/greenlight3.wav\")\n",
    "    \n",
    "def b3_callback(change):    # X\n",
    "    if change['new']:\n",
    "        play_sound(f\"../Music/{LAN}/greenlight4.wav\")\n",
    "\n",
    "def b4_callback(change):    # L1\n",
    "    if change['new']:\n",
    "        robot.stop()\n",
    "        return\n",
    "    \n",
    "def b5_callback(change):    # R1\n",
    "    if change['new']:\n",
    "        return\n",
    "        \n",
    "def b6_callback(change):    # L2\n",
    "    if change['new']:\n",
    "        return\n",
    "    \n",
    "def b7_callback(change):    # R2\n",
    "    if change['new']:\n",
    "        return\n",
    "    \n",
    "def b8_callback(change):    # Select\n",
    "    if change['new']:\n",
    "        return\n",
    "    \n",
    "def b9_callback(change):    # Start\n",
    "    if change['new']:\n",
    "        \n",
    "        return \n",
    "    \n",
    "def b10_callback(change):    # L3\n",
    "    if change['new']:\n",
    "        return\n",
    "    \n",
    "def b11_callback(change):    # R3\n",
    "    if change['new']:\n",
    "        robot.stop()\n",
    "        return \n",
    "    \n",
    "def b12_callback(change):\n",
    "    if change['new']:\n",
    "        return\n",
    "    \n",
    "callback_funcs = [b0_callback, b1_callback, b2_callback, b3_callback, b4_callback, b5_callback,\n",
    "                 b6_callback, b7_callback, b8_callback, b9_callback, b10_callback,\n",
    "                 b11_callback, b12_callback]\n",
    "\n",
    "# Assign callback functions\n",
    "for i in range(12):\n",
    "    controller.buttons[i].observe(callback_funcs[i], names='value')"
   ]
  },
  {
   "cell_type": "markdown",
   "metadata": {},
   "source": [
    "## Control widgets\n",
    "Alternatively, Jupyter widget buttons can be used to trigger actions."
   ]
  },
  {
   "cell_type": "code",
   "execution_count": null,
   "metadata": {},
   "outputs": [],
   "source": [
    "# Create buttons\n",
    "b1_win = widgets.Button(\n",
    "    description='Player1',\n",
    "    disabled=False,\n",
    "    button_style='success', # 'success', 'info', 'warning', 'danger' or ''\n",
    "    tooltip='Player1 winner',\n",
    "    icon='trophy' # (FontAwesome names without the `fa-` prefix)\n",
    ")\n",
    "\n",
    "b2_win = widgets.Button(\n",
    "    description='Player2',\n",
    "    disabled=False,\n",
    "    button_style='success', # 'success', 'info', 'warning', 'danger' or ''\n",
    "    tooltip='Player2 Winner',\n",
    "    icon='trophy' # (FontAwesome names without the `fa-` prefix)\n",
    ")\n",
    "\n",
    "b3_win = widgets.Button(\n",
    "    description='Player3',\n",
    "    disabled=False,\n",
    "    button_style='success', # 'success', 'info', 'warning', 'danger' or ''\n",
    "    tooltip='Player3 Winner',\n",
    "    icon='trophy' # (FontAwesome names without the `fa-` prefix)\n",
    ")\n",
    "\n",
    "b4_win = widgets.Button(\n",
    "    description='Player4',\n",
    "    disabled=False,\n",
    "    button_style='success', # 'success', 'info', 'warning', 'danger' or ''\n",
    "    tooltip='Player4 Winner',\n",
    "    icon='trophy' # (FontAwesome names without the `fa-` prefix)\n",
    ")\n",
    "\n",
    "b1_eliminate = widgets.Button(\n",
    "    description='Player1',\n",
    "    disabled=False,\n",
    "    button_style='danger', # 'success', 'info', 'warning', 'danger' or ''\n",
    "    tooltip='Player1 Eliminated',\n",
    "    icon='times-circle' # (FontAwesome names without the `fa-` prefix)\n",
    ")\n",
    "\n",
    "b2_eliminate = widgets.Button(\n",
    "    description='Player2',\n",
    "    disabled=False,\n",
    "    button_style='danger', # 'success', 'info', 'warning', 'danger' or ''\n",
    "    tooltip='Player2 Eliminated',\n",
    "    icon='times-circle' # (FontAwesome names without the `fa-` prefix)\n",
    ")\n",
    "\n",
    "b3_eliminate = widgets.Button(\n",
    "    description='Player3',\n",
    "    disabled=False,\n",
    "    button_style='danger', # 'success', 'info', 'warning', 'danger' or ''\n",
    "    tooltip='Player3 Eliminated',\n",
    "    icon='times-circle' # (FontAwesome names without the `fa-` prefix)\n",
    ")\n",
    "\n",
    "b4_eliminate = widgets.Button(\n",
    "    description='Player4',\n",
    "    disabled=False,\n",
    "    button_style='danger', # 'success', 'info', 'warning', 'danger' or ''\n",
    "    tooltip='Player4 Eliminated',\n",
    "    icon='times-circle' # (FontAwesome names without the `fa-` prefix)\n",
    ")\n",
    "\n",
    "b1_sound = widgets.Button(\n",
    "    description='Sound1',\n",
    "    disabled=False,\n",
    "    button_style='info', # 'success', 'info', 'warning', 'danger' or ''\n",
    "    tooltip='Funny sound',\n",
    "    icon='play' # (FontAwesome names without the `fa-` prefix)\n",
    ")\n",
    "\n",
    "b2_sound = widgets.Button(\n",
    "    description='Sound2',\n",
    "    disabled=False,\n",
    "    button_style='info', # 'success', 'info', 'warning', 'danger' or ''\n",
    "    tooltip='Funny sound',\n",
    "    icon='play' # (FontAwesome names without the `fa-` prefix)\n",
    ")\n",
    "\n",
    "b3_sound = widgets.Button(\n",
    "    description='Sound3',\n",
    "    disabled=False,\n",
    "    button_style='info', # 'success', 'info', 'warning', 'danger' or ''\n",
    "    tooltip='Funny sound',\n",
    "    icon='play' # (FontAwesome names without the `fa-` prefix)\n",
    ")\n",
    "\n",
    "b4_sound = widgets.Button(\n",
    "    description='Sound4',\n",
    "    disabled=False,\n",
    "    button_style='info', # 'success', 'info', 'warning', 'danger' or ''\n",
    "    tooltip='Funny sound',\n",
    "    icon='play' # (FontAwesome names without the `fa-` prefix)\n",
    ")\n",
    "\n",
    "b_stop = widgets.Button(\n",
    "    description='STOP',\n",
    "    disabled=False,\n",
    "    button_style='danger', # 'success', 'info', 'warning', 'danger' or ''\n",
    "    tooltip='STOP',\n",
    "    icon='stop' # (FontAwesome names without the `fa-` prefix)\n",
    ")\n",
    "\n",
    "# Define callbacks\n",
    "def win(b):\n",
    "    play_sound(f\"../Music/{LAN}/player.wav\")\n",
    "    if b.description == 'Player1':\n",
    "        play_sound(f\"../Music/{LAN}/1.wav\")\n",
    "    elif b.description == 'Player2':\n",
    "        play_sound(f\"../Music/{LAN}/2.wav\")\n",
    "    elif b.description == 'Player3':\n",
    "        play_sound(f\"../Music/{LAN}/3.wav\")\n",
    "    else:\n",
    "        play_sound(f\"../Music/{LAN}/4.wav\")\n",
    "            \n",
    "    play_sound(f\"../Music/{LAN}/win.wav\")\n",
    "    play_sound(\"../Music/win.mp3\")\n",
    "        \n",
    "def eliminate(b):\n",
    "    play_sound(f\"../Music/{LAN}/player.wav\")\n",
    "    if b.description == 'Player1':\n",
    "        play_sound(f\"../Music/{LAN}/1.wav\")\n",
    "    elif b.description == 'Player2':\n",
    "        play_sound(f\"../Music/{LAN}/2.wav\")\n",
    "    elif b.description == 'Player3':\n",
    "        play_sound(f\"../Music/{LAN}/3.wav\")\n",
    "    else:\n",
    "        play_sound(f\"../Music/{LAN}/4.wav\")\n",
    "            \n",
    "    play_sound(f\"../Music/{LAN}/eliminated.wav\")\n",
    "               \n",
    "#     play_sound(\"../Music/game_over.mp3\")\n",
    "\n",
    "def sounds(b):\n",
    "    if b.description == 'Sound1':\n",
    "        # TODO: play funny sound\n",
    "        pass\n",
    "    elif b.description == 'Sound2':\n",
    "        pass\n",
    "    else:\n",
    "        pass\n",
    "    \n",
    "def stop(b):\n",
    "    robot.stop()\n",
    "    \n",
    "# Assign callbacks\n",
    "b1_win.on_click(win)\n",
    "b2_win.on_click(win)\n",
    "b3_win.on_click(win)\n",
    "b4_win.on_click(win)\n",
    "        \n",
    "b1_eliminate.on_click(eliminate)\n",
    "b2_eliminate.on_click(eliminate)\n",
    "b3_eliminate.on_click(eliminate)\n",
    "b4_eliminate.on_click(eliminate)\n",
    "\n",
    "b1_sound.on_click(sounds)\n",
    "b2_sound.on_click(sounds)\n",
    "b3_sound.on_click(sounds)\n",
    "b4_sound.on_click(sounds)\n",
    "\n",
    "b_stop.on_click(stop)\n",
    "\n",
    "# Display buttons\n",
    "display(widgets.HBox([b1_win, b2_win, b3_win, b4_win]))\n",
    "display(widgets.HBox([b1_eliminate, b2_eliminate, b3_eliminate, b4_eliminate]))\n",
    "\n",
    "display(widgets.HBox([b1_sound, b2_sound, b3_sound, b4_sound]))\n",
    "display(b_stop)"
   ]
  },
  {
   "cell_type": "code",
   "execution_count": null,
   "metadata": {},
   "outputs": [],
   "source": [
    "display(image)"
   ]
  }
 ],
 "metadata": {
  "kernelspec": {
   "display_name": "Python 3",
   "language": "python",
   "name": "python3"
  },
  "language_info": {
   "codemirror_mode": {
    "name": "ipython",
    "version": 3
   },
   "file_extension": ".py",
   "mimetype": "text/x-python",
   "name": "python",
   "nbconvert_exporter": "python",
   "pygments_lexer": "ipython3",
   "version": "3.6.9"
  }
 },
 "nbformat": 4,
 "nbformat_minor": 4
}
